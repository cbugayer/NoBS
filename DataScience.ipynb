{
 "cells": [
  {
   "cell_type": "code",
   "execution_count": 14,
   "metadata": {},
   "outputs": [
    {
     "ename": "ImportError",
     "evalue": "/home/cbugayer/anaconda3/envs/myenv/lib/python3.11/site-packages/zmq/backend/cython/../../../../.././libstdc++.so.6: version `GLIBCXX_3.4.30' not found (required by /home/cbugayer/anaconda3/envs/myenv/lib/python3.11/site-packages/tesserocr/../../.././././libicuuc.so.75)",
     "output_type": "error",
     "traceback": [
      "\u001b[0;31m---------------------------------------------------------------------------\u001b[0m",
      "\u001b[0;31mImportError\u001b[0m                               Traceback (most recent call last)",
      "Cell \u001b[0;32mIn[14], line 8\u001b[0m\n\u001b[1;32m      6\u001b[0m \u001b[38;5;28;01mfrom\u001b[39;00m \u001b[38;5;21;01mpdf2image\u001b[39;00m \u001b[38;5;28;01mimport\u001b[39;00m convert_from_path\n\u001b[1;32m      7\u001b[0m \u001b[38;5;28;01mfrom\u001b[39;00m \u001b[38;5;21;01mPIL\u001b[39;00m \u001b[38;5;28;01mimport\u001b[39;00m Image\n\u001b[0;32m----> 8\u001b[0m \u001b[38;5;28;01mimport\u001b[39;00m \u001b[38;5;21;01mtesserocr\u001b[39;00m\n",
      "File \u001b[0;32m~/anaconda3/envs/myenv/lib/python3.11/site-packages/tesserocr/__init__.py:1\u001b[0m\n\u001b[0;32m----> 1\u001b[0m \u001b[38;5;28;01mfrom\u001b[39;00m \u001b[38;5;21;01m.\u001b[39;00m\u001b[38;5;21;01mtesserocr\u001b[39;00m \u001b[38;5;28;01mimport\u001b[39;00m __version__\n\u001b[1;32m      2\u001b[0m \u001b[38;5;28;01mfrom\u001b[39;00m \u001b[38;5;21;01m.\u001b[39;00m\u001b[38;5;21;01mtesserocr\u001b[39;00m \u001b[38;5;28;01mimport\u001b[39;00m \u001b[38;5;241m*\u001b[39m\n",
      "\u001b[0;31mImportError\u001b[0m: /home/cbugayer/anaconda3/envs/myenv/lib/python3.11/site-packages/zmq/backend/cython/../../../../.././libstdc++.so.6: version `GLIBCXX_3.4.30' not found (required by /home/cbugayer/anaconda3/envs/myenv/lib/python3.11/site-packages/tesserocr/../../.././././libicuuc.so.75)"
     ]
    }
   ],
   "source": [
    "import cv2\n",
    "import camelot\n",
    "import pandas as pd\n",
    "import os\n",
    "import pytesseract\n",
    "from pdf2image import convert_from_path\n",
    "from PIL import Image"
   ]
  },
  {
   "cell_type": "code",
   "execution_count": 32,
   "metadata": {},
   "outputs": [
    {
     "name": "stdout",
     "output_type": "stream",
     "text": [
      "Savings Statement ®© PNC BANK\n",
      "\n",
      "PNC Bank\n",
      "\n",
      "Primary accountnumber: 55-6067-9966\n",
      "\n",
      "Page lof2\n",
      "For the period 09/01/2016 to 09/30/2016 Number ofenclosures: 0\n",
      "JOSEPH B NOLAN SS For 24-hour banking, and transaction or\n",
      "312 W LONDON AVE interest rate information, sign-on to\n",
      "SALISBURY MD 21801-3664 ry PNC Bank Online Banking at pnc.com\n",
      "\n",
      "For customer service call 1-888-PNC-BANK\n",
      "Monday - Friday: 7 AM -10 PM ET\n",
      "Saturday & Sunday: 8AM -5 PM ET\n",
      "\n",
      "Para servicio en espanol, 1-866-HOLA-PNC\n",
      "\n",
      "Moving? Please contact us at 1-888-PNC-BANK\n",
      "\n",
      "Write to: Customer Service\n",
      "PO Box 609\n",
      "Pittsburgh, PA 15230-9738\n",
      "\n",
      "visit us at pnc.com\n",
      "3) TDD terminal: 1-800-531-1648\n",
      "For hearing impaired clients only\n",
      "\n",
      "IMPORTANT INFORMATION ABOUT YOUR ACCOUNT\n",
      "\n",
      "We may report information regarding your Account to credit bureaus. If the Account is jointly held, we may\n",
      "also report information to credit bureaus about any joint owner(s). Negative information, including closing\n",
      "of the Account with an overdrawn balance owed or other defaults on the Account, may be reflected in each\n",
      "\n",
      "joint owner's credit report.\n",
      "NEW CHOICE IN DOCUMENT DELIVERY FOR ONLINE BANKING CUSTOMERS\n",
      "\n",
      "All Online Banking checking and savings customers will soon be able to choose between \"Digital Delivery Only\"\n",
      "and \"U.S. Mail Only\" for eligible deposit servicing communications (\"Documents\").* Starting between October\n",
      "\n",
      "23 and December 31, 2016, customers can make this selection from the Online Document Preferences screen on\n",
      "the Customer Profile tab and may change this selection at any time. Please note that changes to delivery\n",
      "preferences may take up to two business days to go into effect.\n",
      "\n",
      "Selecting \"Digital Delivery Only\" for an account means we will post (\"deliver\") documents in PDF form on\n",
      "\n",
      "PNC's secure Online Banking website. We will also send you an email notification that a new document is ready\n",
      "to be viewed in Online Banking. Please ensure your Online Banking email address Is up to date by signing on\n",
      "and visiting the Customer Service tab. Documents that are delivered through Online Banking will no longer be\n",
      "delivered by postal mail. For more information and answers to common questions, please consult PNC's Online\n",
      "Banking Service Agreement or visit the Documents tab within the Customer Service section.\n",
      "\n",
      "Selecting \"U.S. Mail Only\" for an account means we will mail the document, in paper form, to the last postal\n",
      "address you have specified for your Account.\n",
      "\n",
      "* Current list of eligible Documents - (This list may expand to include additional documents)\n",
      "\n",
      "Overdraft Protection Transfer Notice, Dormant/Inactive Account Activity Notice, Mail Deposit Confirmation\n",
      "Notice, Overdraft Protection Hold Notice, Continuous Overdraft Notice, Insufficient Funds Notice, Transfer\n",
      "Violation (Reg D) Notice, Transfer Violation (Reg D) Account Conversion Notice, Overdraft Coverage\n",
      "\n",
      "Confirmation Notice, ATM Deposit Correction Notice, and ATM Deposit Reversal Notice.\n",
      "\n",
      ". OSEPH B NOLAN\n",
      "Savings Account Summary :\n",
      "Accountnumber: 55-6067-9966\n",
      "\n",
      "Savings Statement\n",
      "\n",
      "Forthe period 09/01/2016 to 09/30/2016\n",
      "\n",
      "tl For 24-hour information,sign on to PNC Bank Online Banking JOSEPH B NOLAN\n",
      "on pnc.com Primary accountnumber: 55-6067-9966\n",
      "AccountNumber: 55-6067-9966 - continued Page 2 of 2\n",
      "\n",
      "Balance Summary\n",
      "\n",
      "Beginning Deposits and Checks and other Ending\n",
      "balance other additions deductions balance\n",
      "2,9/5.66 390.02 765.00 2,200.68\n",
      "Interest Summary As of 09/30, a total of $.29 in interest\n",
      "was paid this year.\n",
      "Annual Percentage Number of days in Average collected Interest Paid\n",
      "Yield Earned (APYE) interest period balance for APYE this period\n",
      "0.01% 30 2,172.16 Q2\n",
      "Activity Detail\n",
      "Deposits and Other Additions There were 2 Deposits and Other\n",
      "Date Amount Description Additions totaling $390.02.\n",
      "09/29 390.00 Direct Deposit - Wallet Google USO00Qkq/4\n",
      "09/30 02 Interest Payment\n",
      "Online and Electronic Banking Deductions There were 2 Online or Electronic\n",
      "Date Amount Description eae Deductions totaling\n",
      "09/06 375.00 Web PmtRecur- Wallet Google USOO00Q9Ege\n",
      "09/22 390.00 Web PmtRecur- Wallet Google US000Qkqg/4\n",
      "Daily Balance Detail\n",
      "Date Balance Date Balance Date Balance Date Balance\n",
      "09/01 2,5/5.66 09/22 1,810.66 09/29 2,200.66 09/30 2,200.68\n",
      "09/06 2,200.66\n",
      "\n",
      "Member FDIC (=Y Equal Housing Lender\n",
      "\n",
      "\n"
     ]
    }
   ],
   "source": [
    "pages = convert_from_path(\"ExampleStatements/pnc_1.pdf\", 720)\n",
    "\n",
    "# extract text\n",
    "text_data = ''\n",
    "for page in pages:\n",
    "    text = pytesseract.image_to_string(page)\n",
    "    text_data += text + '\\n'\n",
    "print(text_data)"
   ]
  },
  {
   "cell_type": "code",
   "execution_count": 31,
   "metadata": {},
   "outputs": [
    {
     "name": "stdout",
     "output_type": "stream",
     "text": [
      "becu.txt\n",
      "commerce.txt\n",
      "first_citizens_1.txt\n",
      "chase_4.txt\n",
      "rbs_1.txt\n",
      "citi_1.txt\n",
      "us_1.txt\n",
      "regions.txt\n",
      "varo.txt\n",
      "capital_one_2.txt\n",
      "td_1.txt\n",
      "ally_1.txt\n",
      "citi_2.txt\n",
      "bank_of_america_1.txt\n",
      "rbs_2_cut.txt\n"
     ]
    }
   ],
   "source": [
    "for f in os.listdir(\"ExampleOutputs\"):\n",
    "    print(f)"
   ]
  },
  {
   "cell_type": "code",
   "execution_count": 34,
   "metadata": {},
   "outputs": [
    {
     "name": "stdout",
     "output_type": "stream",
     "text": [
      "15   td_2.pdf\n",
      "Error reading file:  td_2.pdf\n",
      "16   chase_1.pdf\n",
      "17   capital_one_1.pdf\n",
      "18   rbs_3.pdf\n",
      "19   wells_fargo_2.pdf\n",
      "20   pnc_1.pdf\n",
      "21   bank_of_america_2.pdf\n",
      "22   bmo_1.pdf\n",
      "23   chase_2.pdf\n",
      "24   wells_fargo_1.pdf\n",
      "25   truist.pdf\n",
      "26   us_2.pdf\n",
      "27   chase_3.pdf\n"
     ]
    }
   ],
   "source": [
    "existing_output_files = os.listdir(\"ExampleOutputs\")\n",
    "for i, filename in enumerate(os.listdir(\"ExampleStatements\")):\n",
    "    txt_filename = filename[:-4] + \".txt\"\n",
    "    if txt_filename in existing_output_files:\n",
    "        continue\n",
    "    print(i, \" \", filename)\n",
    "    try:\n",
    "        pages = convert_from_path(\"ExampleStatements/\" + filename, 720)\n",
    "    except:\n",
    "        print(\"Error reading file: \", filename)\n",
    "        continue\n",
    "    # pages = convert_from_path(\"ExampleStatements/\" + filename, 720)\n",
    "    f = open(\"ExampleOutputs/\" + txt_filename, \"a\")\n",
    "    for page in pages:\n",
    "        text = pytesseract.image_to_string(page)\n",
    "        f.write(text + '\\n')\n",
    "    f.close()"
   ]
  },
  {
   "cell_type": "code",
   "execution_count": null,
   "metadata": {},
   "outputs": [],
   "source": []
  },
  {
   "cell_type": "code",
   "execution_count": null,
   "metadata": {},
   "outputs": [],
   "source": [
    "import os\n",
    "import camelot\n",
    "\n",
    "pdf_files = []\n",
    "for f in os.listdir('ExampleStatements'):\n",
    "    try:\n",
    "        tables = camelot.read_pdf(r\"ExampleStatements/\" + f, flavor='stream', pages=str(0))\n",
    "        if len(tables) == 0:\n",
    "            pdf_files.append(f)\n",
    "    except KeyError as e:\n",
    "        print(f\"Error processing file {f}: {e}\")\n",
    "\n",
    "pdf_files.sort()\n",
    "print(pdf_files)"
   ]
  },
  {
   "cell_type": "code",
   "execution_count": 15,
   "metadata": {},
   "outputs": [
    {
     "name": "stdout",
     "output_type": "stream",
     "text": [
      "3\n"
     ]
    },
    {
     "name": "stderr",
     "output_type": "stream",
     "text": [
      "/tmp/ipykernel_233293/660232008.py:9: UserWarning: FigureCanvasAgg is non-interactive, and thus cannot be shown\n",
      "  camelot.plot(tables[i], kind='contour').show()\n"
     ]
    },
    {
     "data": {
      "image/png": "[encoded data removed]",
      "text/plain": [
       "<Figure size 640x480 with 1 Axes>"
      ]
     },
     "metadata": {},
     "output_type": "display_data"
    },
    {
     "data": {
      "image/png": "[encoded data removed]",
      "text/plain": [
       "<Figure size 640x480 with 1 Axes>"
      ]
     },
     "metadata": {},
     "output_type": "display_data"
    },
    {
     "data": {
      "image/png": "[encoded data removed]",
      "text/plain": [
       "<Figure size 640x480 with 1 Axes>"
      ]
     },
     "metadata": {},
     "output_type": "display_data"
    }
   ],
   "source": [
    "pdf_path = r\"ExampleStatements/chase_1.pdf\"\n",
    "\n",
    "tables = camelot.read_pdf(pdf_path, flavor='stream', pages=str(0))\n",
    "print(len(tables))\n",
    "if len(tables) == 0:\n",
    "    print(\"No tables found\")\n",
    "else:\n",
    "    for i in range(len(tables)):\n",
    "        camelot.plot(tables[i], kind='contour').show()\n"
   ]
  }
 ],
 "metadata": {
  "kernelspec": {
   "display_name": "cs349",
   "language": "python",
   "name": "python3"
  },
  "language_info": {
   "codemirror_mode": {
    "name": "ipython",
    "version": 3
   },
   "file_extension": ".py",
   "mimetype": "text/x-python",
   "name": "python",
   "nbconvert_exporter": "python",
   "pygments_lexer": "ipython3",
   "version": "3.11.5"
  }
 },
 "nbformat": 4,
 "nbformat_minor": 2
}
